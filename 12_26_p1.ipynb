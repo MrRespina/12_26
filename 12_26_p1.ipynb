{
 "cells": [
  {
   "cell_type": "code",
   "execution_count": 1,
   "id": "8914d679-31ff-45b7-994d-c9ad65f207de",
   "metadata": {},
   "outputs": [],
   "source": [
    "# 기본   자로형 : 정수 , 실수 , 문자열 , bool\n",
    "# 파이썬 자료형 : 리스트 , 튜플 , 딕셔너리 , 집합 자료형\n",
    "\n",
    "# numpy : 배열 자료형 : NUMeric Python : 숫자를 다루는 배열 자료형\n",
    "#       : 리스트와 비슷함."
   ]
  },
  {
   "cell_type": "code",
   "execution_count": 6,
   "id": "53e554e2-b1cf-4484-b20a-2405853bb42d",
   "metadata": {},
   "outputs": [
    {
     "name": "stdout",
     "output_type": "stream",
     "text": [
      "Requirement already satisfied: numpy in c:\\users\\sdedu\\appdata\\local\\programs\\python\\python312\\lib\\site-packages (1.26.2)\n"
     ]
    }
   ],
   "source": [
    "!pip install numpy"
   ]
  },
  {
   "cell_type": "code",
   "execution_count": 5,
   "id": "2ad2911a-48f4-461e-8b7a-1fca2580a1b0",
   "metadata": {},
   "outputs": [
    {
     "name": "stdout",
     "output_type": "stream",
     "text": [
      "Requirement already satisfied: pip in c:\\users\\sdedu\\appdata\\local\\programs\\python\\python312\\lib\\site-packages (23.2.1)\n",
      "Collecting pip\n",
      "  Obtaining dependency information for pip from https://files.pythonhosted.org/packages/15/aa/3f4c7bcee2057a76562a5b33ecbd199be08cdb4443a02e26bd2c3cf6fc39/pip-23.3.2-py3-none-any.whl.metadata\n",
      "  Downloading pip-23.3.2-py3-none-any.whl.metadata (3.5 kB)\n",
      "Downloading pip-23.3.2-py3-none-any.whl (2.1 MB)\n",
      "   ---------------------------------------- 0.0/2.1 MB ? eta -:--:--\n",
      "   ---------------------------------------- 0.0/2.1 MB ? eta -:--:--\n",
      "   ---------------------------------------- 0.0/2.1 MB ? eta -:--:--\n",
      "   - -------------------------------------- 0.1/2.1 MB 1.2 MB/s eta 0:00:02\n",
      "   ----------------- ---------------------- 0.9/2.1 MB 8.3 MB/s eta 0:00:01\n",
      "   ---------------------------------------- 2.1/2.1 MB 13.5 MB/s eta 0:00:00\n",
      "Installing collected packages: pip\n",
      "  Attempting uninstall: pip\n",
      "    Found existing installation: pip 23.2.1\n",
      "    Uninstalling pip-23.2.1:\n",
      "      Successfully uninstalled pip-23.2.1\n",
      "Successfully installed pip-23.3.2\n"
     ]
    }
   ],
   "source": [
    "!python.exe -m pip install --upgrade pip"
   ]
  },
  {
   "cell_type": "code",
   "execution_count": 22,
   "id": "210a891d-c3b9-4418-b8f4-ab58381d3cca",
   "metadata": {},
   "outputs": [
    {
     "name": "stdout",
     "output_type": "stream",
     "text": [
      "1\n"
     ]
    }
   ],
   "source": [
    "import numpy as np\n",
    "\n",
    "num = np.random.randint(10)\n",
    "print(num)"
   ]
  },
  {
   "cell_type": "code",
   "execution_count": 39,
   "id": "eb782203-9e9d-4278-8687-c3d68b7122b9",
   "metadata": {},
   "outputs": [
    {
     "name": "stdout",
     "output_type": "stream",
     "text": [
      "[8 7 3 3 7 1]\n",
      "[5, 2, 6, 1, 8, 7]\n"
     ]
    }
   ],
   "source": [
    "# 1차원 배열\n",
    "num1 = np.random.randint(10, size=6)\n",
    "l = [5,2,6,1,8,7]\n",
    "print(num1) # 구분자가 없음. (배열)\n",
    "print(l)    # 구분자로 ,가 있음. (리스트)"
   ]
  },
  {
   "cell_type": "code",
   "execution_count": 43,
   "id": "eb53a0dd-fb6b-4f67-9bb7-a862bcb2362c",
   "metadata": {},
   "outputs": [
    {
     "name": "stdout",
     "output_type": "stream",
     "text": [
      "2\n",
      "7\n",
      "[6, 1]\n",
      "[3 3]\n"
     ]
    }
   ],
   "source": [
    "# indexing\n",
    "print(l[1])\n",
    "print(num1[1])\n",
    "\n",
    "# slicing\n",
    "print(l[2:2+2])\n",
    "print(num1[2:2+2])"
   ]
  },
  {
   "cell_type": "code",
   "execution_count": 44,
   "id": "683eb53b-d5e3-4fad-be4c-e67c6d1e8939",
   "metadata": {},
   "outputs": [
    {
     "name": "stdout",
     "output_type": "stream",
     "text": [
      "[[6 9 6 0 4 5]\n",
      " [9 8 3 8 4 8]]\n"
     ]
    }
   ],
   "source": [
    "num2 = np.random.randint(10,size=(2,6))     # 2행 6열\n",
    "print(num2)"
   ]
  },
  {
   "cell_type": "code",
   "execution_count": 56,
   "id": "075dc90a-3f11-48b6-8442-8768fe7ca39a",
   "metadata": {},
   "outputs": [
    {
     "name": "stdout",
     "output_type": "stream",
     "text": [
      "[[6, 9, 6, 0, 4, 5], [9, 8, 3, 8, 4, 8]]\n",
      "[[6 9 6 0 4 5]\n",
      " [9 8 3 8 4 8]]\n",
      "9\n",
      "9\n",
      "9\n",
      "[6, 0]\n",
      "[6 0]\n",
      "9\n",
      "9\n"
     ]
    }
   ],
   "source": [
    "l2 = [[6,9,6,0,4,5],[9,8,3,8,4,8]]              # 2차원 배열 : 리스트를 포함하고 있는 리스트와 같다\n",
    "print(l2)\n",
    "print(num2)\n",
    "print(l2[1][0])\n",
    "print(num2[1][0])\n",
    "print(num2[1, 0])      # 행, 열\n",
    "\n",
    "print(l2[0][-4:-2])\n",
    "print(num2[0][-4:-2])\n",
    "# \n",
    "print(l2[0][-5])\n",
    "print(num2[0][-5])"
   ]
  },
  {
   "cell_type": "code",
   "execution_count": 57,
   "id": "523a3802-3849-4cbc-a7da-8ddc98f50f07",
   "metadata": {},
   "outputs": [
    {
     "name": "stdout",
     "output_type": "stream",
     "text": [
      "[[0 4 4 6]\n",
      " [0 5 1 6]\n",
      " [9 7 3 0]]\n"
     ]
    }
   ],
   "source": [
    "num3 = np.random.randint(10,size=(3,4))"
   ]
  },
  {
   "cell_type": "code",
   "execution_count": 74,
   "id": "187ef43e-53a3-49fd-a867-e33c538edca6",
   "metadata": {},
   "outputs": [
    {
     "name": "stdout",
     "output_type": "stream",
     "text": [
      "[[0, 4, 4, 6], [0, 5, 1, 6], [9, 7, 3, 0]]\n",
      "[[0 4 4 6]\n",
      " [0 5 1 6]\n",
      " [9 7 3 0]]\n",
      "[0 5 1 6]\n",
      "[0, 5, 1, 6]\n",
      "[[0, 4, 4, 6], [0, 5, 1, 6], [9, 7, 3, 0]]\n",
      "[[0 4 4 6]\n",
      " [0 5 1 6]\n",
      " [9 7 3 0]]\n",
      "[[0 4 4]\n",
      " [0 5 1]\n",
      " [9 7 3]]\n",
      "[[0 4]\n",
      " [0 1]\n",
      " [9 3]]\n",
      "[[0 4]\n",
      " [9 3]]\n",
      "[[6 4 4 0]\n",
      " [6 1 5 0]\n",
      " [0 3 7 9]]\n",
      "[[9 7 3 0]\n",
      " [0 5 1 6]\n",
      " [0 4 4 6]]\n",
      "[[0 3 7 9]\n",
      " [6 1 5 0]\n",
      " [6 4 4 0]]\n"
     ]
    }
   ],
   "source": [
    "l3 = [[0 ,4 ,4 ,6],[0 ,5 ,1 ,6],[9 ,7 ,3 ,0]]\n",
    "print(l3)\n",
    "print(num3)\n",
    "\n",
    "print(num3[1])\n",
    "print(l3[1])\n",
    "\n",
    "print(l3[:][:3])\n",
    "print(num3[:][:3])   # 리스트 표현식. 전체를 가져오는건 쉽지만 배열 전체에서 특정 부분만 가져올 수 없다.\n",
    "print(num3[:, :3])   # 배열 표현식\n",
    "print(num3[:, ::2])\n",
    "print(num3[::2,::2])\n",
    "print(num3[:,::-1])\n",
    "print(num3[::-1,:])\n",
    "print(num3[::-1,::-1])"
   ]
  },
  {
   "cell_type": "code",
   "execution_count": 80,
   "id": "8f53cb1e-3f0e-4040-b768-d5798cffda16",
   "metadata": {},
   "outputs": [
    {
     "name": "stdout",
     "output_type": "stream",
     "text": [
      "20\n",
      "[[ 0  4 20  6]\n",
      " [ 0  5  1  6]\n",
      " [ 9  7  3  0]]\n"
     ]
    }
   ],
   "source": [
    "num3[0,2] = 20\n",
    "print(num3[0,2])\n",
    "print(num3)"
   ]
  },
  {
   "cell_type": "code",
   "execution_count": 86,
   "id": "464043c0-840a-4b4e-bc21-18b21d58fcb6",
   "metadata": {},
   "outputs": [
    {
     "name": "stdout",
     "output_type": "stream",
     "text": [
      "[[2 8 4 7 0]\n",
      " [2 3 8 6 5]\n",
      " [8 4 8 0 3]]\n"
     ]
    }
   ],
   "source": [
    "### 배열을 만드는 법\n",
    "# 1. random을 이용하는 방법\n",
    "num = np.random.randint(10,size=(3,5))\n",
    "print(num)\n",
    "num = np.random.randint(10,size=(3,3,5))   # 3차원 배열 / 면 , 행, 열"
   ]
  },
  {
   "cell_type": "code",
   "execution_count": 88,
   "id": "a302b931-a458-4765-9825-075b32fffacb",
   "metadata": {},
   "outputs": [
    {
     "name": "stdout",
     "output_type": "stream",
     "text": [
      "[[[4 8 6 9 1]\n",
      "  [3 2 5 6 5]\n",
      "  [7 9 3 1 2]]\n",
      "\n",
      " [[0 3 3 8 0]\n",
      "  [7 8 8 7 5]\n",
      "  [2 7 9 6 0]]\n",
      "\n",
      " [[3 1 2 8 0]\n",
      "  [7 2 9 5 6]\n",
      "  [6 3 7 9 8]]]\n",
      "[4 8 6 9 1]\n"
     ]
    }
   ],
   "source": [
    "print(num)\n",
    "print(num[0,0,:])"
   ]
  },
  {
   "cell_type": "code",
   "execution_count": 94,
   "id": "956499e9-7c16-48f6-99d2-cee4904d232f",
   "metadata": {},
   "outputs": [
    {
     "name": "stdout",
     "output_type": "stream",
     "text": [
      "[0 1 2 3 4 5 6 7 8 9]\n",
      "[0 1 2 3 4 5 6 7 8]\n",
      "[[0 1 2]\n",
      " [3 4 5]\n",
      " [6 7 8]]\n",
      "[[11 12 13 14]\n",
      " [15 16 17 18]\n",
      " [19 20 21 22]]\n"
     ]
    }
   ],
   "source": [
    "# 2. arange() 함수를 사용하여 배열 만들기 : 1차원\n",
    "print(np.arange(10))\n",
    "m1 = np.arange(9)\n",
    "print(m1)\n",
    "m2 = np.arange(9).reshape(3,3)     # 1차원 > 2차원으로 나누기\n",
    "print(m2)\n",
    "m3 = np.arange(11,11+12).reshape(3,4)\n",
    "print(m3)"
   ]
  },
  {
   "cell_type": "code",
   "execution_count": 96,
   "id": "9063c5fc-3d8e-44f4-98e3-29868cc23d6a",
   "metadata": {},
   "outputs": [
    {
     "name": "stdout",
     "output_type": "stream",
     "text": [
      "[[11 12 13]\n",
      " [14 15 16]\n",
      " [17 18 19]\n",
      " [20 21 22]]\n"
     ]
    }
   ],
   "source": [
    "m4 = np.arange(11,23).reshape(4,3)\n",
    "print(m4)"
   ]
  },
  {
   "cell_type": "code",
   "execution_count": 99,
   "id": "6ab5ec75-de38-4ca9-9fcc-c14e6d079a69",
   "metadata": {},
   "outputs": [
    {
     "name": "stdout",
     "output_type": "stream",
     "text": [
      "[1 2 3]\n",
      "[1 2 3]\n"
     ]
    }
   ],
   "source": [
    "# array() 함수를 사용하는 방법 : 리스트, 튜플을 이용하여 배열 생성\n",
    "m5 = np.array([1,2,3])\n",
    "print(m5)\n",
    "m6 = np.array((1,2,3))\n",
    "print(m6)"
   ]
  },
  {
   "cell_type": "code",
   "execution_count": 102,
   "id": "422bbfb4-ed45-448a-8145-4f49f271aa50",
   "metadata": {},
   "outputs": [
    {
     "name": "stdout",
     "output_type": "stream",
     "text": [
      "[[1 2 3]\n",
      " [4 5 6]\n",
      " [7 8 9]]\n",
      "[[1 2 3]\n",
      " [4 5 6]\n",
      " [7 8 9]]\n",
      "[[ 1.  2.  3.]\n",
      " [ 4. nan  6.]\n",
      " [ 7.  8. nan]]\n"
     ]
    }
   ],
   "source": [
    "# 리스트를 포함한 리스트나 튜플을 포함한 튜플을 이용하여 2차원 배열 생성\n",
    "m7 = np.array(([1,2,3],[4,5,6],[7,8,9]))\n",
    "print(m7)\n",
    "m8 = np.array(((1,2,3),(4,5,6),(7,8,9)))\n",
    "print(m8)\n",
    "m9 = np.array(((1,2,3),(4,np.NaN,6),(7,8,np.NaN)))\n",
    "print(m9)\n",
    "# mp.NaN을 결측치라고 한다. NaN은 Not A Number : 알 수 없는 값을 의미, NULL과 같다."
   ]
  },
  {
   "cell_type": "code",
   "execution_count": 105,
   "id": "c51eb5cf-616b-418e-89a9-71646353158c",
   "metadata": {},
   "outputs": [
    {
     "name": "stdout",
     "output_type": "stream",
     "text": [
      "[1, 2, 3, 3, 2, 1]\n",
      "[4 4 4]\n"
     ]
    }
   ],
   "source": [
    "l1 = [1,2,3]\n",
    "l2 = [3,2,1]\n",
    "res = l1 + l2 # 연결 연산자\n",
    "print(res)\n",
    "x = np.array([1,2,3])\n",
    "y = np.array([3,2,1])\n",
    "re = x + y # 구조의 값 끼리 덧셈이 됨.\n",
    "print(re)"
   ]
  },
  {
   "cell_type": "code",
   "execution_count": 111,
   "id": "dcb07d57-bbe6-4d54-86a1-89a1d382ed39",
   "metadata": {},
   "outputs": [
    {
     "name": "stdout",
     "output_type": "stream",
     "text": [
      "[1 2 3 3 2 1]\n",
      "[ 1  2  3  3  2  1 99 99 99]\n",
      "[ 1  2  3  3  2  1 99 99 99]\n",
      "[ 1  2  3  3  2  1 99 99 99]\n"
     ]
    }
   ],
   "source": [
    "# 배열의 확장\n",
    "z = np.concatenate((x , y))\n",
    "print(z)\n",
    "v = [99,99,99]\n",
    "z = np.concatenate((x,y,v))    # 배열 리스트나 튜플도 배열로 연결됨.\n",
    "print(z)\n",
    "# 튜플과 리스트도 배열에 합칠 수 있음!\n",
    "z = np.concatenate(([1,2,3],[3,2,1],[99,99,99]))\n",
    "print(z)\n",
    "z1 = np.concatenate((l1,l2,v))\n",
    "print(z1)"
   ]
  },
  {
   "cell_type": "code",
   "execution_count": 116,
   "id": "94a995f1-6914-4ae2-98bf-382a259cb8b9",
   "metadata": {},
   "outputs": [
    {
     "name": "stdout",
     "output_type": "stream",
     "text": [
      "[[9 8 7]\n",
      " [6 5 4]\n",
      " [3 2 1]\n",
      " [9 8 7]\n",
      " [6 5 4]\n",
      " [3 2 1]]\n",
      "[[9 8 7 9 8 7]\n",
      " [6 5 4 6 5 4]\n",
      " [3 2 1 3 2 1]]\n"
     ]
    }
   ],
   "source": [
    "# 2차원 배열 확장\n",
    "x2 = np.array([1,2,3])\n",
    "grid = np.array([[9,8,7],[6,5,4],[3,2,1]])\n",
    "grid2 = np.array([[9,8,7],[6,5,4],[3,2,1]])\n",
    "# z = np.concatenate((grid , x2), axis = 0)      에러 : concatenate를 사용할 때에는 차원이 같아야한다. 행과 열의 크기가 같아야 한다.  \n",
    "# 열 기준으로 붙일때는 axis = 0, 행 기준으로 붙일때는 axis = 1\n",
    "z = np.concatenate((grid,grid2), axis = 0)     # x 축 기준, axis = 0이 기본값이다.\n",
    "print(z)\n",
    "z = np.concatenate((grid,grid2), axis = 1)     # y 축 기준\n",
    "print(z)"
   ]
  },
  {
   "cell_type": "code",
   "execution_count": 122,
   "id": "292818d8-f5ee-4b73-933d-50d25b9c0020",
   "metadata": {},
   "outputs": [
    {
     "name": "stdout",
     "output_type": "stream",
     "text": [
      "[[1 2 3]\n",
      " [9 8 7]\n",
      " [6 5 4]\n",
      " [3 2 1]]\n",
      "[[1 2]\n",
      " [9 8]\n",
      " [7 6]]\n",
      "[[9 8 7 1 2]\n",
      " [6 5 4 9 8]\n",
      " [3 2 1 7 6]]\n"
     ]
    }
   ],
   "source": [
    "# 차원이 다른 경우 vstack 과 hstack을 사용하여 붙임.\n",
    "z = np.vstack((x2,grid))\n",
    "print(z)\n",
    "grid2 = np.array([[1,2],[9,8],[7,6]])\n",
    "print(grid2)\n",
    "y = np.hstack((grid,grid2))\n",
    "print(y)"
   ]
  },
  {
   "cell_type": "code",
   "execution_count": 125,
   "id": "a2237d3a-d261-4cdc-b225-bf613aa936c5",
   "metadata": {},
   "outputs": [
    {
     "name": "stdout",
     "output_type": "stream",
     "text": [
      "[4 4 4]\n",
      "[1, 2, 3, 3, 2, 1]\n"
     ]
    }
   ],
   "source": [
    "# 유니버설 함수(UFuncs)\n",
    "\n",
    "l1 = [1,2,3]\n",
    "l2 = [3,2,1]\n",
    "x = np.array(l1)\n",
    "y = np.array(l2)\n",
    "res = x+y\n",
    "print(res)\n",
    "res = l1+l2\n",
    "print(res)"
   ]
  },
  {
   "cell_type": "code",
   "execution_count": 127,
   "id": "b0d86c30-6f40-4b00-8d89-5e3ce3c2ab27",
   "metadata": {},
   "outputs": [],
   "source": [
    "def add(i,j):\n",
    "    ls = []\n",
    "    for idx in range(len(i)):\n",
    "        ls.append(i[idx] + j[idx])\n",
    "    return ls"
   ]
  },
  {
   "cell_type": "code",
   "execution_count": 135,
   "id": "790d8f0e-f145-4f9d-a270-cdb181eef2fe",
   "metadata": {},
   "outputs": [
    {
     "name": "stdout",
     "output_type": "stream",
     "text": [
      "[4, 4, 4]\n",
      "[-2  0  2]\n",
      "[-2  0  2]\n",
      "[3 4 3]\n",
      "[0.33333333 1.         3.        ]\n"
     ]
    }
   ],
   "source": [
    "res = add(l1,l2)\n",
    "print(res)\n",
    "# +,-*,/,%,//,** 를 사용할 때 자동으로 실행되는 함수 : 유니버설 함수(UFuncs)\n",
    "# numpy를 사용할 때, 연산자가 실행되는게 아니라 각각에 맞는 유니버설 함수가 실행되는 것.\n",
    "res = x - y\n",
    "print(res)\n",
    "res = np.subtract(x,y)\n",
    "print(res)\n",
    "res = np.multiply(x,y)\n",
    "print(res)\n",
    "res = np.divide(x,y)\n",
    "print(res)"
   ]
  },
  {
   "cell_type": "code",
   "execution_count": 140,
   "id": "8829cdce-5368-4194-be53-4ee73b4647a9",
   "metadata": {},
   "outputs": [
    {
     "name": "stdout",
     "output_type": "stream",
     "text": [
      "[6 7 8]\n",
      "[[1]\n",
      " [2]\n",
      " [3]]\n",
      "[[2 3 4]\n",
      " [3 4 5]\n",
      " [4 5 6]]\n",
      "[[9 8 7]\n",
      " [6 5 4]\n",
      " [3 2 1]]\n",
      "[[14 13 12]\n",
      " [11 10  9]\n",
      " [ 8  7  6]]\n"
     ]
    }
   ],
   "source": [
    "# 브로드캐스트\n",
    "# 배열을 연산하기 위해서는 차원이 같아야 함.\n",
    "z = x + 5 # 1차원 배열과 정수의 연산\n",
    "# 서로 다른 차원을 가진 배열이나 숫자가 같은 차원으로 확장이 되는 것 : 브로드 캐스트\n",
    "print(z)\n",
    "k = np.array([[1],[2],[3]])\n",
    "print(k)\n",
    "z = x + k\n",
    "print(z)\n",
    "print(grid)\n",
    "z = grid + 5\n",
    "print(z)"
   ]
  },
  {
   "cell_type": "code",
   "execution_count": 147,
   "id": "6b956c38-977b-4782-a379-1881d0543589",
   "metadata": {},
   "outputs": [
    {
     "name": "stdout",
     "output_type": "stream",
     "text": [
      "[0. 0. 0.]\n",
      "[[0. 0. 0.]\n",
      " [0. 0. 0.]\n",
      " [0. 0. 0.]]\n",
      "[1. 1. 1.]\n",
      "[[1. 1. 1.]\n",
      " [1. 1. 1.]\n",
      " [1. 1. 1.]]\n"
     ]
    }
   ],
   "source": [
    "# numpy 함수\n",
    "# 제로 행렬\n",
    "m = np.zeros(3)\n",
    "print(m)\n",
    "m = np.zeros((3,3))\n",
    "print(m)\n",
    "# 원(1) 행렬\n",
    "m = np.ones(3)\n",
    "print(m)\n",
    "m = np.ones((3,3))\n",
    "print(m)"
   ]
  },
  {
   "cell_type": "code",
   "execution_count": 156,
   "id": "86874ff0-9f38-4e32-982c-9c5bf4125daf",
   "metadata": {},
   "outputs": [
    {
     "name": "stdout",
     "output_type": "stream",
     "text": [
      "6\n",
      "1\n",
      "21\n",
      "[0 1 2 2 1 1]\n",
      "7\n"
     ]
    }
   ],
   "source": [
    "# 집계 함수\n",
    "l = [1,2,3,4,5,6]\n",
    "print(max(l)) # 파이썬 내장함수!\n",
    "print(min(l))\n",
    "print(sum(l))\n",
    "m = np.random.randint(3,size=6)"
   ]
  },
  {
   "cell_type": "code",
   "execution_count": 162,
   "id": "0d7f4f74-19f8-4d15-8d0c-9f925096c0ad",
   "metadata": {},
   "outputs": [
    {
     "name": "stdout",
     "output_type": "stream",
     "text": [
      "[0 1 2 2 1 1]\n",
      "7\n",
      "7\n",
      "7\n",
      "21\n",
      "2\n",
      "2\n",
      "0\n",
      "0\n"
     ]
    }
   ],
   "source": [
    "print(m)\n",
    "print(sum(m))\n",
    "print(np.sum(m))\n",
    "print(m.sum())     # numpy로 만든것이기 때문에, 이렇게 지정해줘도 됨!\n",
    "print(np.sum(l))\n",
    "\n",
    "print(m.max())\n",
    "print(np.max(m))\n",
    "\n",
    "print(m.min())\n",
    "print(np.min(m))"
   ]
  },
  {
   "cell_type": "code",
   "execution_count": 169,
   "id": "ab70cbfb-ae8d-4edf-a353-d79b91a801a5",
   "metadata": {},
   "outputs": [],
   "source": [
    "m = np.random.random((4,3))"
   ]
  },
  {
   "cell_type": "code",
   "execution_count": 179,
   "id": "f855589d-b190-4bb0-a9df-c52994a5e4fe",
   "metadata": {},
   "outputs": [
    {
     "name": "stdout",
     "output_type": "stream",
     "text": [
      "[[0.1976818  0.00406592 0.19248668]\n",
      " [0.12382671 0.34781665 0.37967833]\n",
      " [0.33485177 0.34810822 0.291111  ]\n",
      " [0.03800299 0.5591078  0.86770918]]\n",
      "[0.69436326 1.25909859 1.7309852 ]\n",
      "3.6844470503482034\n",
      "3.6844470503482034\n",
      "0.8677091846784306\n",
      "0.8677091846784306\n",
      "0.004065920037302773\n",
      "0.004065920037302773\n",
      "0.3070372541956836\n",
      "0.3070372541956836\n",
      "0.2255297457138839\n",
      "0.2255297457138839\n"
     ]
    }
   ],
   "source": [
    "print(m)\n",
    "print(sum(m))     # 열의 합계\n",
    "print(np.sum(m))     # 모든 행열의 집계값\n",
    "print(m.sum())\n",
    "print(np.max(m))   # 집계 최대값\n",
    "print(m.max())\n",
    "print(np.min(m))\n",
    "print(m.min())\n",
    "print(np.mean(m))    # 전체 평균\n",
    "print(m.mean())\n",
    "print(np.std(m))     # 표준 편차\n",
    "print(m.std())"
   ]
  },
  {
   "cell_type": "code",
   "execution_count": 180,
   "id": "ade17b76-2f4d-44c6-bc4b-60e647412331",
   "metadata": {},
   "outputs": [
    {
     "name": "stdout",
     "output_type": "stream",
     "text": [
      "Collecting pandas\n",
      "  Downloading pandas-2.1.4-cp312-cp312-win_amd64.whl.metadata (18 kB)\n",
      "Requirement already satisfied: numpy<2,>=1.26.0 in c:\\users\\sdedu\\appdata\\local\\programs\\python\\python312\\lib\\site-packages (from pandas) (1.26.2)\n",
      "Requirement already satisfied: python-dateutil>=2.8.2 in c:\\users\\sdedu\\appdata\\local\\programs\\python\\python312\\lib\\site-packages (from pandas) (2.8.2)\n",
      "Collecting pytz>=2020.1 (from pandas)\n",
      "  Downloading pytz-2023.3.post1-py2.py3-none-any.whl.metadata (22 kB)\n",
      "Collecting tzdata>=2022.1 (from pandas)\n",
      "  Downloading tzdata-2023.3-py2.py3-none-any.whl (341 kB)\n",
      "     ---------------------------------------- 0.0/341.8 kB ? eta -:--:--\n",
      "     -------------------------------------  337.9/341.8 kB 7.0 MB/s eta 0:00:01\n",
      "     -------------------------------------- 341.8/341.8 kB 7.1 MB/s eta 0:00:00\n",
      "Requirement already satisfied: six>=1.5 in c:\\users\\sdedu\\appdata\\local\\programs\\python\\python312\\lib\\site-packages (from python-dateutil>=2.8.2->pandas) (1.16.0)\n",
      "Downloading pandas-2.1.4-cp312-cp312-win_amd64.whl (10.5 MB)\n",
      "   ---------------------------------------- 0.0/10.5 MB ? eta -:--:--\n",
      "   ------- -------------------------------- 2.1/10.5 MB 64.0 MB/s eta 0:00:01\n",
      "   ----------------------- ---------------- 6.3/10.5 MB 79.1 MB/s eta 0:00:01\n",
      "   ---------------------------------------  10.5/10.5 MB 81.8 MB/s eta 0:00:01\n",
      "   ---------------------------------------- 10.5/10.5 MB 59.4 MB/s eta 0:00:00\n",
      "Downloading pytz-2023.3.post1-py2.py3-none-any.whl (502 kB)\n",
      "   ---------------------------------------- 0.0/502.5 kB ? eta -:--:--\n",
      "   --------------------------------------- 502.5/502.5 kB 30.8 MB/s eta 0:00:00\n",
      "Installing collected packages: pytz, tzdata, pandas\n",
      "Successfully installed pandas-2.1.4 pytz-2023.3.post1 tzdata-2023.3\n"
     ]
    }
   ],
   "source": [
    "!pip install pandas"
   ]
  },
  {
   "cell_type": "code",
   "execution_count": 194,
   "id": "ee0a2c81-4e1f-41c6-9836-7f8045e825b2",
   "metadata": {},
   "outputs": [
    {
     "name": "stdout",
     "output_type": "stream",
     "text": [
      "[189 170 189 163 183 171 185 168 173 183 173 173 175 178 183 193 178 173\n",
      " 174 183 183 168 170 178 182 180 183 178 182 188 175 179 183 193 182 183\n",
      " 177 185 188 188 182 185]\n",
      "7549\n",
      "193\n",
      "174.25\n",
      "182.0\n",
      "182.0\n",
      "183.0\n",
      "163\n",
      "179.73809523809524\n",
      "6.931843442745892\n"
     ]
    }
   ],
   "source": [
    "import pandas as pd\n",
    "df = pd.read_csv('https://raw.githubusercontent.com/SoongMoo/soldesk20231218/main/%EC%B0%B8%EA%B3%A0%EC%9E%90%EB%A3%8C/NumPy/data/president_heights.csv')\n",
    "h = np.array(df['height(cm)'])\n",
    "print(h)\n",
    "print(h.sum())\n",
    "print(h.max())   # 4 사분위\n",
    "print(np.percentile(h,25))    # h의 25% 값을 가져오겠다, 1 사분위!\n",
    "print(np.percentile(h,50))    # h의 50% 값을 가져오겠다, 2 사분위! 중앙값/중위값\n",
    "print(np.median(h))           # 위의 50% 값 가져오는 것과 같음!\n",
    "print(np.percentile(h,75))    # h의 75% 값을 가져오겠다, 3 사분위!\n",
    "print(h.min())   # 0 사분위\n",
    "print(h.mean())  # 평균, 사분위 아님!\n",
    "print(h.std())   # 표준 편차 값, 0에 가까울수록 분포도가 좋다"
   ]
  },
  {
   "cell_type": "code",
   "execution_count": 195,
   "id": "69414d13-142a-487c-a176-35454cc94852",
   "metadata": {},
   "outputs": [
    {
     "name": "stdout",
     "output_type": "stream",
     "text": [
      "Collecting matplotlib\n",
      "  Downloading matplotlib-3.8.2-cp312-cp312-win_amd64.whl.metadata (5.9 kB)\n",
      "Collecting contourpy>=1.0.1 (from matplotlib)\n",
      "  Downloading contourpy-1.2.0-cp312-cp312-win_amd64.whl.metadata (5.8 kB)\n",
      "Collecting cycler>=0.10 (from matplotlib)\n",
      "  Downloading cycler-0.12.1-py3-none-any.whl.metadata (3.8 kB)\n",
      "Collecting fonttools>=4.22.0 (from matplotlib)\n",
      "  Downloading fonttools-4.47.0-cp312-cp312-win_amd64.whl.metadata (160 kB)\n",
      "     ---------------------------------------- 0.0/160.4 kB ? eta -:--:--\n",
      "     ---------------------------------------- 0.0/160.4 kB ? eta -:--:--\n",
      "     ------- ----------------------------- 30.7/160.4 kB 435.7 kB/s eta 0:00:01\n",
      "     --------------------- --------------- 92.2/160.4 kB 871.5 kB/s eta 0:00:01\n",
      "     -------------------------------------- 160.4/160.4 kB 1.2 MB/s eta 0:00:00\n",
      "Collecting kiwisolver>=1.3.1 (from matplotlib)\n",
      "  Downloading kiwisolver-1.4.5-cp312-cp312-win_amd64.whl.metadata (6.5 kB)\n",
      "Requirement already satisfied: numpy<2,>=1.21 in c:\\users\\sdedu\\appdata\\local\\programs\\python\\python312\\lib\\site-packages (from matplotlib) (1.26.2)\n",
      "Requirement already satisfied: packaging>=20.0 in c:\\users\\sdedu\\appdata\\local\\programs\\python\\python312\\lib\\site-packages (from matplotlib) (23.2)\n",
      "Collecting pillow>=8 (from matplotlib)\n",
      "  Downloading Pillow-10.1.0-cp312-cp312-win_amd64.whl.metadata (9.6 kB)\n",
      "Collecting pyparsing>=2.3.1 (from matplotlib)\n",
      "  Downloading pyparsing-3.1.1-py3-none-any.whl.metadata (5.1 kB)\n",
      "Requirement already satisfied: python-dateutil>=2.7 in c:\\users\\sdedu\\appdata\\local\\programs\\python\\python312\\lib\\site-packages (from matplotlib) (2.8.2)\n",
      "Requirement already satisfied: six>=1.5 in c:\\users\\sdedu\\appdata\\local\\programs\\python\\python312\\lib\\site-packages (from python-dateutil>=2.7->matplotlib) (1.16.0)\n",
      "Downloading matplotlib-3.8.2-cp312-cp312-win_amd64.whl (7.6 MB)\n",
      "   ---------------------------------------- 0.0/7.6 MB ? eta -:--:--\n",
      "   --------------- ------------------------ 3.0/7.6 MB 63.6 MB/s eta 0:00:01\n",
      "   ---------------------------------------  7.6/7.6 MB 80.5 MB/s eta 0:00:01\n",
      "   ---------------------------------------- 7.6/7.6 MB 54.1 MB/s eta 0:00:00\n",
      "Downloading contourpy-1.2.0-cp312-cp312-win_amd64.whl (187 kB)\n",
      "   ---------------------------------------- 0.0/187.7 kB ? eta -:--:--\n",
      "   --------------------------------------- 187.7/187.7 kB 11.1 MB/s eta 0:00:00\n",
      "Downloading cycler-0.12.1-py3-none-any.whl (8.3 kB)\n",
      "Downloading fonttools-4.47.0-cp312-cp312-win_amd64.whl (2.2 MB)\n",
      "   ---------------------------------------- 0.0/2.2 MB ? eta -:--:--\n",
      "   ---------------------------------------  2.2/2.2 MB 69.4 MB/s eta 0:00:01\n",
      "   ---------------------------------------- 2.2/2.2 MB 45.9 MB/s eta 0:00:00\n",
      "Downloading kiwisolver-1.4.5-cp312-cp312-win_amd64.whl (56 kB)\n",
      "   ---------------------------------------- 0.0/56.0 kB ? eta -:--:--\n",
      "   ---------------------------------------- 56.0/56.0 kB 3.1 MB/s eta 0:00:00\n",
      "Downloading Pillow-10.1.0-cp312-cp312-win_amd64.whl (2.6 MB)\n",
      "   ---------------------------------------- 0.0/2.6 MB ? eta -:--:--\n",
      "   ---------------------------------------  2.6/2.6 MB 161.9 MB/s eta 0:00:01\n",
      "   ---------------------------------------- 2.6/2.6 MB 83.8 MB/s eta 0:00:00\n",
      "Downloading pyparsing-3.1.1-py3-none-any.whl (103 kB)\n",
      "   ---------------------------------------- 0.0/103.1 kB ? eta -:--:--\n",
      "   ---------------------------------------- 103.1/103.1 kB ? eta 0:00:00\n",
      "Installing collected packages: pyparsing, pillow, kiwisolver, fonttools, cycler, contourpy, matplotlib\n",
      "Successfully installed contourpy-1.2.0 cycler-0.12.1 fonttools-4.47.0 kiwisolver-1.4.5 matplotlib-3.8.2 pillow-10.1.0 pyparsing-3.1.1\n"
     ]
    }
   ],
   "source": [
    "# 시각화\n",
    "!pip install matplotlib"
   ]
  },
  {
   "cell_type": "code",
   "execution_count": 197,
   "id": "a3009bcb-d57c-4748-845b-ff3a1f1a9089",
   "metadata": {},
   "outputs": [
    {
     "data": {
      "text/plain": [
       "(array([ 1.,  2.,  3.,  5.,  3.,  6., 12.,  3.,  5.,  2.]),\n",
       " array([163., 166., 169., 172., 175., 178., 181., 184., 187., 190., 193.]),\n",
       " <BarContainer object of 10 artists>)"
      ]
     },
     "execution_count": 197,
     "metadata": {},
     "output_type": "execute_result"
    },
    {
     "data": {
      "image/png": "[encoded data removed]",
      "text/plain": [
       "<Figure size 640x480 with 1 Axes>"
      ]
     },
     "metadata": {},
     "output_type": "display_data"
    }
   ],
   "source": [
    "import matplotlib.pyplot as pp\n",
    "pp.hist(h)"
   ]
  },
  {
   "cell_type": "code",
   "execution_count": 210,
   "id": "5dab65d0-1fe0-4a07-addc-e9c1d633f739",
   "metadata": {},
   "outputs": [
    {
     "name": "stdout",
     "output_type": "stream",
     "text": [
      "1\n",
      "[1 2 3 4 5 6]\n",
      "[2 5]\n",
      "[False False False  True  True  True]\n",
      "[4 5 6]\n",
      "[4 5 6]\n",
      "3\n",
      "15\n",
      "15\n"
     ]
    }
   ],
   "source": [
    "# 팬시 index, 마스크\n",
    "l = [1,2,3,4,5,6]\n",
    "# 팬시 index : True,False를 이용해서\n",
    "print(l[0])\n",
    "# print(l[[True,False,False,True,False,False]])  리스트에서는 팬시 인덱스 사용 불가.\n",
    "x = np.array([1,2,3,4,5,6])\n",
    "print(x)\n",
    "print(x[[False,True,False,False,True,False]])   # 마스크\n",
    "# 비교 연산자 : 팬시 인덱스\n",
    "print( x > 3) # 팬시 인덱스 출력\n",
    "print(x[[False,False,False,True,True,True]])   # 마스크\n",
    "print(x[x>3])       # 팬시 인덱스 > 마스크 > 출력을 축약해서 사용 가능!\n",
    "print(np.sum(x > 3))   # True의 갯수를 알 수 있음.\n",
    "print(np.sum(x[x>3]))   # 마스크된 전체의 합계\n",
    "print(x[x>3].sum())"
   ]
  },
  {
   "cell_type": "code",
   "execution_count": 221,
   "id": "313a5231-9abc-45b6-a733-883e18dfc545",
   "metadata": {},
   "outputs": [
    {
     "name": "stdout",
     "output_type": "stream",
     "text": [
      "[[1 2 3]\n",
      " [4 5 6]\n",
      " [7 8 9]]\n",
      "[[False False False]\n",
      " [False False  True]\n",
      " [ True  True  True]]\n",
      "[6 7 8 9]\n",
      "4\n",
      "30\n",
      "4\n",
      "30\n"
     ]
    }
   ],
   "source": [
    "x1 = np.arange(1,10).reshape(3,3)\n",
    "print(x1)\n",
    "print(x1 > 5)\n",
    "print(x1[x1>5])\n",
    "print(np.sum(x1>5))   # x1 > 5 의 갯수\n",
    "print(np.sum(x1[x1>5]))\n",
    "print((x1>5).sum())\n",
    "print(x1[x1>5].sum())"
   ]
  },
  {
   "cell_type": "code",
   "execution_count": 263,
   "id": "98901979-0e89-4548-bf6d-77256c9fd5ad",
   "metadata": {},
   "outputs": [
    {
     "name": "stdout",
     "output_type": "stream",
     "text": [
      "39\n",
      "30.795275590551178\n",
      "26\n",
      "339\n",
      "339\n",
      "32.12204724409449\n",
      "32.12204724409449\n",
      "215\n",
      "150\n"
     ]
    }
   ],
   "source": [
    "rainfall = pd.read_csv('https://raw.githubusercontent.com/SoongMoo/soldesk20231218/main/%EC%B0%B8%EA%B3%A0%EC%9E%90%EB%A3%8C/NumPy/data/Seattle2014.csv')\n",
    "rainfall['PRCP']\n",
    "inches = np.array(rainfall['PRCP'] / 254)\n",
    "print(np.sum(inches>=0.5))\n",
    "print(inches[inches>=0.5].sum())\n",
    "# 강수량 0.5 ~ 0.8\n",
    "print(((inches >= 0.5) & (inches <= 0.8)).sum())\n",
    "# 반대\n",
    "print((~((inches >= 0.5) & (inches <= 0.8))).sum())\n",
    "print(((inches < 0.5) | (inches > 0.8)).sum())\n",
    "# 0.5 ~ 0.8인 날의 강수량 합계\n",
    "print(inches[~((inches >= 0.5) & (inches <= 0.8))].sum())\n",
    "print(inches[((inches < 0.5) | (inches > 0.8))].sum())\n",
    "\n",
    "print((inches==0).sum())   # 비 안온날\n",
    "print((inches!=0).sum())"
   ]
  },
  {
   "cell_type": "code",
   "execution_count": 268,
   "id": "97250516-2f55-4e76-a510-9c2010b146fc",
   "metadata": {},
   "outputs": [
    {
     "data": {
      "text/plain": [
       "(array([245.,  14.,  13.,  17.,   8.,   6.,   5.,   6.,   4.,   3.,   7.,\n",
       "          6.,   3.,   3.,   3.,   4.,   4.,   2.,   4.,   0.,   0.,   1.,\n",
       "          1.,   1.,   0.,   0.,   0.,   2.,   1.,   1.,   0.,   0.,   0.,\n",
       "          0.,   0.,   0.,   0.,   0.,   0.,   1.]),\n",
       " array([0.        , 0.04596457, 0.09192913, 0.1378937 , 0.18385827,\n",
       "        0.22982283, 0.2757874 , 0.32175197, 0.36771654, 0.4136811 ,\n",
       "        0.45964567, 0.50561024, 0.5515748 , 0.59753937, 0.64350394,\n",
       "        0.6894685 , 0.73543307, 0.78139764, 0.8273622 , 0.87332677,\n",
       "        0.91929134, 0.96525591, 1.01122047, 1.05718504, 1.10314961,\n",
       "        1.14911417, 1.19507874, 1.24104331, 1.28700787, 1.33297244,\n",
       "        1.37893701, 1.42490157, 1.47086614, 1.51683071, 1.56279528,\n",
       "        1.60875984, 1.65472441, 1.70068898, 1.74665354, 1.79261811,\n",
       "        1.83858268]),\n",
       " <BarContainer object of 40 artists>)"
      ]
     },
     "execution_count": 268,
     "metadata": {},
     "output_type": "execute_result"
    },
    {
     "data": {
      "image/png": "[encoded data removed]",
      "text/plain": [
       "<Figure size 640x480 with 1 Axes>"
      ]
     },
     "metadata": {},
     "output_type": "display_data"
    }
   ],
   "source": [
    "pp.hist(inches,40)"
   ]
  },
  {
   "cell_type": "code",
   "execution_count": 279,
   "id": "8fd24cac-dfb0-4d9f-8466-27e361649072",
   "metadata": {},
   "outputs": [
    {
     "name": "stdout",
     "output_type": "stream",
     "text": [
      "[2 3 5 6 7]\n",
      "[[2 5 6 8 4 0]\n",
      " [9 8 2 7 4 8]\n",
      " [5 6 5 6 1 5]\n",
      " [9 9 8 5 3 2]]\n",
      "[[0 2 4 5 6 8]\n",
      " [2 4 7 8 8 9]\n",
      " [1 5 5 5 6 6]\n",
      " [2 3 5 8 9 9]]\n",
      "[[0 2 4 5 6 8]\n",
      " [2 4 7 8 8 9]\n",
      " [1 5 5 5 6 6]\n",
      " [2 3 5 8 9 9]]\n",
      "[[2 5 2 5 1 0]\n",
      " [5 6 5 6 3 2]\n",
      " [9 8 6 7 4 5]\n",
      " [9 9 8 8 4 8]]\n"
     ]
    }
   ],
   "source": [
    "# 정렬\n",
    "x = np.array([3,6,2,7,5])\n",
    "x\n",
    "print(np.sort(x))\n",
    "x = np.random.randint(10,size=(4,6))\n",
    "print(x)\n",
    "\n",
    "print(np.sort(x))    # axis = 1이 기본값임.\n",
    "print(np.sort(x,axis = 1))\n",
    "print(np.sort(x,axis = 0))"
   ]
  },
  {
   "cell_type": "code",
   "execution_count": 287,
   "id": "1b490e47-03e8-4def-86dc-6c8b455d8413",
   "metadata": {},
   "outputs": [
    {
     "name": "stdout",
     "output_type": "stream",
     "text": [
      "[[2 5 6 8 4 0]\n",
      " [9 8 2 7 4 8]\n",
      " [5 6 5 6 1 5]\n",
      " [9 9 8 5 3 2]]\n",
      "**********************************************************************\n",
      "[[0 2 4 5 6 8]\n",
      " [7 2 4 8 8 9]\n",
      " [1 5 5 5 6 6]\n",
      " [5 2 3 8 9 9]]\n",
      "**********************************************************************\n",
      "[[0 2 4 8 6 5]\n",
      " [2 4 7 9 8 8]\n",
      " [1 5 5 6 6 5]\n",
      " [2 3 5 8 9 9]]\n",
      "**********************************************************************\n",
      "[[5 6 5 6 1 0]\n",
      " [2 5 2 5 3 2]\n",
      " [9 8 6 7 4 5]\n",
      " [9 9 8 8 4 8]]\n"
     ]
    }
   ],
   "source": [
    "# 파티션 나누기 : 작은 값은 왼쪽, 큰 값은 오른쪽으로 배치함\n",
    "#               : 작은 값은 위로, 큰 값은 아래로 배치\n",
    "print(x)\n",
    "print('*'*70)\n",
    "print(np.partition(x,3))  # 기본값은 행 기준. 3개만\n",
    "print('*'*70)\n",
    "print(np.partition(x,2))\n",
    "print('*'*70)\n",
    "print(np.partition(x,3,axis=0))   # 열 기준 3개만"
   ]
  },
  {
   "cell_type": "code",
   "execution_count": 331,
   "id": "37aeb8bf-928b-4507-a97e-6da7efd36fe2",
   "metadata": {},
   "outputs": [
    {
     "name": "stdout",
     "output_type": "stream",
     "text": [
      "32.67446808510638\n"
     ]
    },
    {
     "data": {
      "text/plain": [
       "(array([21., 15., 23., 16., 14., 12., 19., 19., 22., 30.]),\n",
       " array([15.  , 16.48, 17.96, 19.44, 20.92, 22.4 , 23.88, 25.36, 26.84,\n",
       "        28.32, 29.8 ]),\n",
       " <BarContainer object of 10 artists>)"
      ]
     },
     "execution_count": 331,
     "metadata": {},
     "output_type": "execute_result"
    },
    {
     "data": {
      "image/png": "[encoded data removed]",
      "text/plain": [
       "<Figure size 640x480 with 1 Axes>"
      ]
     },
     "metadata": {},
     "output_type": "display_data"
    }
   ],
   "source": [
    "temp = pd.read_csv('testv.csv')\n",
    "all = np.array(temp)\n",
    "dat = np.array(temp['날짜'])\n",
    "cmax = np.array(temp['최고기온(℃)'])\n",
    "print(cmax[cmax>30].mean())\n",
    "\n",
    "bin = cmax[((cmax >= 15) & (cmax <= 30))]\n",
    "pp.hist(bin)\n",
    "\n"
   ]
  }
 ],
 "metadata": {
  "kernelspec": {
   "display_name": "Python 3 (ipykernel)",
   "language": "python",
   "name": "python3"
  },
  "language_info": {
   "codemirror_mode": {
    "name": "ipython",
    "version": 3
   },
   "file_extension": ".py",
   "mimetype": "text/x-python",
   "name": "python",
   "nbconvert_exporter": "python",
   "pygments_lexer": "ipython3",
   "version": "3.12.1"
  }
 },
 "nbformat": 4,
 "nbformat_minor": 5
}
